{
 "cells": [
  {
   "cell_type": "code",
   "execution_count": 1,
   "metadata": {},
   "outputs": [],
   "source": [
    "import cv2\n",
    "import os\n",
    "import pandas as pd\n",
    "import numpy as np\n",
    "import matplotlib.pyplot as plt\n",
    "import matplotlib.animation as animation"
   ]
  },
  {
   "cell_type": "code",
   "execution_count": 2,
   "metadata": {},
   "outputs": [],
   "source": [
    "# https://www.bilibili.com/video/BV1at421H7xq/\n",
    "# P5\n",
    "# download tool: IDM\n",
    "video = cv2.VideoCapture(\"./target_video.mp4\")"
   ]
  },
  {
   "cell_type": "code",
   "execution_count": 3,
   "metadata": {},
   "outputs": [
    {
     "name": "stdout",
     "output_type": "stream",
     "text": [
      "FPS： 30.0\n"
     ]
    }
   ],
   "source": [
    "fps = video.get(cv2.CAP_PROP_FPS)\n",
    "print('FPS：',  fps)"
   ]
  },
  {
   "cell_type": "code",
   "execution_count": 4,
   "metadata": {},
   "outputs": [
    {
     "name": "stdout",
     "output_type": "stream",
     "text": [
      "Total frame： 106830\n"
     ]
    }
   ],
   "source": [
    " frame_count = int(video.get(cv2.CAP_PROP_FRAME_COUNT))\n",
    "print('Total frame：',  frame_count)"
   ]
  },
  {
   "cell_type": "code",
   "execution_count": 5,
   "metadata": {},
   "outputs": [
    {
     "name": "stdout",
     "output_type": "stream",
     "text": [
      "Size: 1920 * 1080\n"
     ]
    }
   ],
   "source": [
    "frame_width = int(video.get(cv2.CAP_PROP_FRAME_WIDTH))\n",
    "frame_height = int(video.get(cv2.CAP_PROP_FRAME_HEIGHT))\n",
    "print('Size:', frame_width, '*', frame_height)"
   ]
  },
  {
   "cell_type": "code",
   "execution_count": 6,
   "metadata": {},
   "outputs": [],
   "source": [
    "# 32:30-32:34"
   ]
  },
  {
   "cell_type": "code",
   "execution_count": 7,
   "metadata": {},
   "outputs": [],
   "source": [
    "# target frame\n",
    "# 目标帧数\n",
    "start_frame = (32*60+30)*30\n",
    "end_farme = (32*60+34)*30 - 30"
   ]
  },
  {
   "cell_type": "code",
   "execution_count": 8,
   "metadata": {},
   "outputs": [],
   "source": [
    "# click event function\n",
    "# 点击事件函数\n",
    "# https://blog.csdn.net/weixin_41788560/article/details/96306156\n",
    "def click_event(event, x, y, flags, param):\n",
    "    if event == cv2.EVENT_RBUTTONDOWN:\n",
    "        frame_clicked.append(temp_frame)\n",
    "        frame_list.append(frame.copy())\n",
    "    if event == cv2.EVENT_LBUTTONDOWN:\n",
    "        # print(x, y)\n",
    "        font = cv2.FONT_HERSHEY_SIMPLEX\n",
    "        strXY = str(x) + ', '+ str(y)\n",
    "        mouse_position_x.append(x)\n",
    "        mouse_position_y.append(y)\n",
    "        cv2.destroyAllWindows()"
   ]
  },
  {
   "cell_type": "raw",
   "metadata": {},
   "source": [
    "# play video by each frame, left chick the mouse position to save the coords\n",
    "# 播放视频, 左键点击鼠标位置以保存坐标\n",
    "temp_frame = start_frame\n",
    "mouse_position_x = []\n",
    "mouse_position_y = []\n",
    "frame_list = []\n",
    "frame_clicked = []\n",
    "while temp_frame <= end_farme:\n",
    "    video.set(cv2.CAP_PROP_POS_FRAMES, temp_frame)\n",
    "    \n",
    "    ret, frame = video.read()\n",
    "    if ret:\n",
    "        frame = np.array(frame)\n",
    "\n",
    "        # BGR2RGB\n",
    "        # frame = cv2.cvtColor(frame, cv2.COLOR_BGR2RGB)\n",
    "\n",
    "        # plot\n",
    "        #plt.figure(figsize=(16, 9))\n",
    "        #plt.imshow(np.array(frame), )\n",
    "        cv2.namedWindow('image')\n",
    "        cv2.setMouseCallback('image', click_event)\n",
    "        cv2.imshow('image', frame)\n",
    "        cv2.waitKey(0)\n",
    "        \n",
    "    temp_frame +=1\n",
    "    \n",
    "    # break"
   ]
  },
  {
   "cell_type": "raw",
   "metadata": {},
   "source": [
    "# save coords\n",
    "# 保存坐标\n",
    "# df = pd.DataFrame()\n",
    "df['x'] = mouse_position_x\n",
    "df['y'] = mouse_position_y\n",
    "# df.to_csv('mouse_position.csv', index=False)"
   ]
  },
  {
   "cell_type": "code",
   "execution_count": 10,
   "metadata": {},
   "outputs": [],
   "source": [
    "df = pd.read_csv('mouse_position.csv')"
   ]
  },
  {
   "cell_type": "code",
   "execution_count": 11,
   "metadata": {},
   "outputs": [],
   "source": [
    "x = np.array(df['x'])\n",
    "y = np.array(df['y'])"
   ]
  },
  {
   "cell_type": "raw",
   "metadata": {},
   "source": [
    "# output image\n",
    "# 输出图片\n",
    "temp_frame = start_frame\n",
    "while temp_frame <= end_farme:\n",
    "    video.set(cv2.CAP_PROP_POS_FRAMES, temp_frame)\n",
    "    \n",
    "    ret, frame = video.read()\n",
    "    if ret:\n",
    "        frame = np.array(frame)\n",
    "        \n",
    "        # BGR2RGB\n",
    "        frame = cv2.cvtColor(frame, cv2.COLOR_BGR2RGB)\n",
    "        \n",
    "        im = cv2.circle(frame, [x[temp_frame - start_frame],y[temp_frame - start_frame]], 5, [255, 0, 0],2)\n",
    "        for i in range(0, temp_frame - start_frame):\n",
    "            im = cv2.line(frame, [x[i],y[i]], [x[i+1],y[i+1]], [255, 225, 0],1)\n",
    "        plt.imsave(os.path.join('./frames', str(temp_frame - start_frame) + '.png'), im)\n",
    "    temp_frame +=1"
   ]
  },
  {
   "cell_type": "raw",
   "metadata": {},
   "source": [
    "# output 3 secends video\n",
    "# 输出 3 秒视频\n",
    "writer = cv2.VideoWriter('output_video.mp4', cv2.VideoWriter_fourcc(*\"mp4v\"), 30, (1920, 1080))\n",
    "temp_frame = start_frame\n",
    "\n",
    "while temp_frame <= end_farme:\n",
    "    video.set(cv2.CAP_PROP_POS_FRAMES, temp_frame)\n",
    "    \n",
    "    ret, frame = video.read()\n",
    "    if ret:\n",
    "        frame = np.array(frame)\n",
    "        \n",
    "        # BGR2RGB\n",
    "        # frame = cv2.cvtColor(frame, cv2.COLOR_BGR2RGB)\n",
    "        \n",
    "        im = cv2.circle(frame, [x[temp_frame - start_frame],y[temp_frame - start_frame]], 5, [255, 0, 0],2)\n",
    "        for i in range(0, temp_frame - start_frame):\n",
    "            im = cv2.line(frame, [x[i],y[i]], [x[i+1],y[i+1]], [255, 225, 0],1)\n",
    "        writer.write(im)\n",
    "    temp_frame +=1\n",
    "writer.release()"
   ]
  },
  {
   "cell_type": "code",
   "execution_count": null,
   "metadata": {},
   "outputs": [],
   "source": []
  },
  {
   "cell_type": "code",
   "execution_count": 13,
   "metadata": {},
   "outputs": [],
   "source": [
    "# output 2 secends video\n",
    "# 输出 2 秒视频\n",
    "writer = cv2.VideoWriter('output_video_2s.mp4', cv2.VideoWriter_fourcc(*\"mp4v\"), 30, (1920, 1080))\n",
    "temp_frame = start_frame\n",
    "\n",
    "while temp_frame <= end_farme-30:\n",
    "    video.set(cv2.CAP_PROP_POS_FRAMES, temp_frame)\n",
    "    \n",
    "    ret, frame = video.read()\n",
    "    if ret:\n",
    "        frame = np.array(frame)\n",
    "        \n",
    "        # BGR2RGB\n",
    "        # frame = cv2.cvtColor(frame, cv2.COLOR_BGR2RGB)\n",
    "        \n",
    "        im = cv2.circle(frame, [x[temp_frame - start_frame],y[temp_frame - start_frame]], 5, [255, 0, 0],2)\n",
    "        for i in range(0, temp_frame - start_frame):\n",
    "            im = cv2.line(frame, [x[i],y[i]], [x[i+1],y[i+1]], [255, 225, 0],1)\n",
    "        writer.write(im)\n",
    "    temp_frame +=1\n",
    "writer.release()"
   ]
  },
  {
   "cell_type": "code",
   "execution_count": null,
   "metadata": {},
   "outputs": [],
   "source": []
  },
  {
   "cell_type": "code",
   "execution_count": null,
   "metadata": {},
   "outputs": [],
   "source": []
  },
  {
   "cell_type": "code",
   "execution_count": 14,
   "metadata": {},
   "outputs": [],
   "source": [
    "video.release()"
   ]
  }
 ],
 "metadata": {
  "kernelspec": {
   "display_name": "Python 3",
   "language": "python",
   "name": "python3"
  },
  "language_info": {
   "codemirror_mode": {
    "name": "ipython",
    "version": 3
   },
   "file_extension": ".py",
   "mimetype": "text/x-python",
   "name": "python",
   "nbconvert_exporter": "python",
   "pygments_lexer": "ipython3",
   "version": "3.8.1"
  }
 },
 "nbformat": 4,
 "nbformat_minor": 4
}
